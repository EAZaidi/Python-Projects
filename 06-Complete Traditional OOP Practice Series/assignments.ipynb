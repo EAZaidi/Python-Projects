{
 "cells": [
  {
   "cell_type": "markdown",
   "id": "d0e71975",
   "metadata": {},
   "source": [
    "# 1. Using self\n"
   ]
  },
  {
   "cell_type": "markdown",
   "id": "0802759a",
   "metadata": {},
   "source": [
    "Assignment:\n",
    "Create a class Student with attributes name and marks. Use the self keyword to initialize these values via a constructor. Add a method display() that prints student details.\n"
   ]
  },
  {
   "cell_type": "code",
   "execution_count": 1,
   "id": "53d90995",
   "metadata": {},
   "outputs": [
    {
     "name": "stdout",
     "output_type": "stream",
     "text": [
      "Name: Ali, Marks: 90\n"
     ]
    }
   ],
   "source": [
    "class Student:\n",
    "    def __init__(self, name, marks):\n",
    "        self.name = name\n",
    "        self.marks = marks\n",
    "\n",
    "    def display(self):\n",
    "        print(f\"Name: {self.name}, Marks: {self.marks}\")\n",
    "\n",
    "s1 = Student(\"Ali\", 90)\n",
    "s1.display()"
   ]
  },
  {
   "cell_type": "markdown",
   "id": "50b4601f",
   "metadata": {},
   "source": [
    "# 2. Using cls\n"
   ]
  },
  {
   "cell_type": "markdown",
   "id": "51024945",
   "metadata": {},
   "source": [
    "Assignment:\n",
    "Create a class Counter that keeps track of how many objects have been created. Use a class variable and a class method with cls to manage and display the count."
   ]
  },
  {
   "cell_type": "code",
   "execution_count": 3,
   "id": "8cccb845",
   "metadata": {},
   "outputs": [
    {
     "name": "stdout",
     "output_type": "stream",
     "text": [
      "Total objects created: 3\n"
     ]
    }
   ],
   "source": [
    "class Counter:\n",
    "    count = 0\n",
    "\n",
    "    def __init__(self):\n",
    "        Counter.count += 1\n",
    "\n",
    "    @classmethod\n",
    "    def display_count(cls):\n",
    "        print(f\"Total objects created: {cls.count}\")\n",
    "\n",
    "c1 = Counter()\n",
    "c2 = Counter()\n",
    "c3 = Counter()\n",
    "Counter.display_count()"
   ]
  },
  {
   "cell_type": "markdown",
   "id": "a68684b6",
   "metadata": {},
   "source": [
    "# 3. Public Variables and Methods"
   ]
  },
  {
   "cell_type": "markdown",
   "id": "6bdf9b6a",
   "metadata": {},
   "source": [
    "Assignment:\n",
    "Create a class Car with a public variable brand and a public method start(). Instantiate the class and access both from outside the class."
   ]
  },
  {
   "cell_type": "code",
   "execution_count": 4,
   "id": "f7a26c52",
   "metadata": {},
   "outputs": [
    {
     "name": "stdout",
     "output_type": "stream",
     "text": [
      "Toyota\n",
      "Toyota car started.\n"
     ]
    }
   ],
   "source": [
    "class Car:\n",
    "    def __init__(self, brand):\n",
    "        self.brand = brand\n",
    "\n",
    "    def start(self):\n",
    "        print(f\"{self.brand} car started.\")\n",
    "\n",
    "car = Car(\"Toyota\")\n",
    "print(car.brand)\n",
    "car.start()"
   ]
  },
  {
   "cell_type": "markdown",
   "id": "2d0812cc",
   "metadata": {},
   "source": [
    "# 4. Class Variables and Class Methods"
   ]
  },
  {
   "cell_type": "markdown",
   "id": "705b91c4",
   "metadata": {},
   "source": [
    "Assignment:\n",
    "Create a class Bank with a class variable bank_name. Add a class method change_bank_name(cls, name) that allows changing the bank name. Show that it affects all instances."
   ]
  },
  {
   "cell_type": "code",
   "execution_count": 24,
   "id": "0cc125ec",
   "metadata": {},
   "outputs": [
    {
     "name": "stdout",
     "output_type": "stream",
     "text": [
      "State Bank of Pakistan\n",
      "National Bank of Pakistan\n",
      "National Bank of Pakistan\n"
     ]
    }
   ],
   "source": [
    "class Bank:\n",
    "    bank_name = \"State Bank of Pakistan\"\n",
    "\n",
    "    @classmethod\n",
    "    def change_bank_name(cls, name):\n",
    "        cls.bank_name = name\n",
    "\n",
    "b1 = Bank()\n",
    "b2 = Bank()\n",
    "print(Bank.bank_name)\n",
    "Bank.change_bank_name(\"National Bank of Pakistan\")\n",
    "print(b1.bank_name)\n",
    "print(b2.bank_name)"
   ]
  },
  {
   "cell_type": "markdown",
   "id": "6dde765b",
   "metadata": {},
   "source": [
    "# 5. Static Variables and Static Methods"
   ]
  },
  {
   "cell_type": "markdown",
   "id": "a775293d",
   "metadata": {},
   "source": [
    "Assignment:\n",
    "Create a class MathUtils with a static method add(a, b) that returns the sum. No class or instance variables should be used."
   ]
  },
  {
   "cell_type": "code",
   "execution_count": 1,
   "id": "0c6be54a",
   "metadata": {},
   "outputs": [
    {
     "name": "stdout",
     "output_type": "stream",
     "text": [
      "8\n"
     ]
    }
   ],
   "source": [
    "class MathUtils:\n",
    "    @staticmethod\n",
    "    def add(a, b):\n",
    "        return a + b\n",
    "\n",
    "print(MathUtils.add(5, 3))"
   ]
  },
  {
   "cell_type": "markdown",
   "id": "0e17a7c1",
   "metadata": {},
   "source": [
    "# 6. Constructors and Destructors"
   ]
  },
  {
   "cell_type": "markdown",
   "id": "7e5e409f",
   "metadata": {},
   "source": [
    "Assignment:\n",
    "Create a class Logger that prints a message when an object is created (constructor) and another message when it is destroyed (destructor)."
   ]
  },
  {
   "cell_type": "code",
   "execution_count": 2,
   "id": "35841dd7",
   "metadata": {},
   "outputs": [
    {
     "name": "stdout",
     "output_type": "stream",
     "text": [
      "Logger initialized.\n",
      "Logger destroyed.\n"
     ]
    }
   ],
   "source": [
    "class Logger:\n",
    "    def __init__(self):\n",
    "        print(\"Logger initialized.\")\n",
    "\n",
    "    def __del__(self):\n",
    "        print(\"Logger destroyed.\")\n",
    "\n",
    "logger = Logger()\n",
    "del logger"
   ]
  },
  {
   "cell_type": "markdown",
   "id": "200c0c92",
   "metadata": {},
   "source": [
    "# 7. Access Modifiers: Public, Private, and Protected"
   ]
  },
  {
   "cell_type": "markdown",
   "id": "e23b14b9",
   "metadata": {},
   "source": [
    "Assignment:\n",
    "Create a class Employee with:\n",
    "\n",
    "a public variable name,\n",
    "\n",
    "a protected variable _salary, and\n",
    "\n",
    "a private variable __ssn.\n",
    "\n",
    "Try accessing all three variables from an object of the class and document what happens."
   ]
  },
  {
   "cell_type": "code",
   "execution_count": 4,
   "id": "e2f53d0f",
   "metadata": {},
   "outputs": [
    {
     "name": "stdout",
     "output_type": "stream",
     "text": [
      "John\n",
      "50000\n",
      "123-45-6789\n"
     ]
    }
   ],
   "source": [
    "class Employee:\n",
    "    def __init__(self, name, salary, ssn):\n",
    "        self.name = name\n",
    "        self._salary = salary     \n",
    "        self.__ssn = ssn          \n",
    "\n",
    "e = Employee(\"John\", 50000, \"123-45-6789\")\n",
    "print(e.name)         \n",
    "print(e._salary)      \n",
    "# print(e.__ssn)      \n",
    "print(e._Employee__ssn)"
   ]
  },
  {
   "cell_type": "markdown",
   "id": "eab4fb5e",
   "metadata": {},
   "source": [
    "# 8. The super() Function"
   ]
  },
  {
   "cell_type": "markdown",
   "id": "5ad18c41",
   "metadata": {},
   "source": [
    "Assignment:\n",
    "Create a class Person with a constructor that sets the name. Inherit a class Teacher from it, add a subject field, and use super() to call the base class constructor."
   ]
  },
  {
   "cell_type": "code",
   "execution_count": 5,
   "id": "83a021a6",
   "metadata": {},
   "outputs": [
    {
     "name": "stdout",
     "output_type": "stream",
     "text": [
      "Sara Math\n"
     ]
    }
   ],
   "source": [
    "class Person:\n",
    "    def __init__(self, name):\n",
    "        self.name = name\n",
    "\n",
    "class Teacher(Person):\n",
    "    def __init__(self, name, subject):\n",
    "        super().__init__(name)\n",
    "        self.subject = subject\n",
    "\n",
    "t = Teacher(\"Sara\", \"Math\")\n",
    "print(t.name, t.subject)"
   ]
  },
  {
   "cell_type": "markdown",
   "id": "be01e9eb",
   "metadata": {},
   "source": [
    "# 9. Abstract Classes and Methods"
   ]
  },
  {
   "cell_type": "markdown",
   "id": "0c5cb65a",
   "metadata": {},
   "source": [
    "Assignment:\n",
    "Use the abc module to create an abstract class Shape with an abstract method area(). Inherit a class Rectangle that implements area()."
   ]
  },
  {
   "cell_type": "code",
   "execution_count": 6,
   "id": "fe712a6c",
   "metadata": {},
   "outputs": [
    {
     "name": "stdout",
     "output_type": "stream",
     "text": [
      "20\n"
     ]
    }
   ],
   "source": [
    "from abc import ABC, abstractmethod\n",
    "\n",
    "class Shape(ABC):\n",
    "    @abstractmethod\n",
    "    def area(self):\n",
    "        pass\n",
    "\n",
    "class Rectangle(Shape):\n",
    "    def __init__(self, width, height):\n",
    "        self.width = width\n",
    "        self.height = height\n",
    "\n",
    "    def area(self):\n",
    "        return self.width * self.height\n",
    "\n",
    "r = Rectangle(4, 5)\n",
    "print(r.area())"
   ]
  },
  {
   "cell_type": "markdown",
   "id": "a5a06735",
   "metadata": {},
   "source": [
    "# 10. Instance Methods"
   ]
  },
  {
   "cell_type": "markdown",
   "id": "6d2442cd",
   "metadata": {},
   "source": [
    "Assignment:\n",
    "Create a class Dog with instance variables name and breed. Add an instance method bark() that prints a message including the dog's name."
   ]
  },
  {
   "cell_type": "code",
   "execution_count": 7,
   "id": "5df86549",
   "metadata": {},
   "outputs": [
    {
     "name": "stdout",
     "output_type": "stream",
     "text": [
      "Bruno says Woof!\n"
     ]
    }
   ],
   "source": [
    "class Dog:\n",
    "    def __init__(self, name, breed):\n",
    "        self.name = name\n",
    "        self.breed = breed\n",
    "\n",
    "    def bark(self):\n",
    "        print(f\"{self.name} says Woof!\")\n",
    "\n",
    "d = Dog(\"Bruno\", \"Labrador\")\n",
    "d.bark()"
   ]
  },
  {
   "cell_type": "markdown",
   "id": "b9c386eb",
   "metadata": {},
   "source": [
    "# 11. Class Methods"
   ]
  },
  {
   "cell_type": "markdown",
   "id": "1116e765",
   "metadata": {},
   "source": [
    "Assignment:\n",
    "Create a class Book with a class variable total_books. Add a class method increment_book_count() to increase the count when a new book is added."
   ]
  },
  {
   "cell_type": "code",
   "execution_count": 8,
   "id": "b298af68",
   "metadata": {},
   "outputs": [
    {
     "name": "stdout",
     "output_type": "stream",
     "text": [
      "2\n"
     ]
    }
   ],
   "source": [
    "class Book:\n",
    "    total_books = 0\n",
    "\n",
    "    def __init__(self):\n",
    "        Book.increment_book_count()\n",
    "\n",
    "    @classmethod\n",
    "    def increment_book_count(cls):\n",
    "        cls.total_books += 1\n",
    "\n",
    "Book()\n",
    "Book()\n",
    "print(Book.total_books)"
   ]
  },
  {
   "cell_type": "markdown",
   "id": "22cb4c1c",
   "metadata": {},
   "source": [
    "# 12. Static Methods"
   ]
  },
  {
   "cell_type": "markdown",
   "id": "d1537d12",
   "metadata": {},
   "source": [
    "Assignment:\n",
    "Create a class TemperatureConverter with a static method celsius_to_fahrenheit(c) that returns the Fahrenheit value."
   ]
  },
  {
   "cell_type": "code",
   "execution_count": 13,
   "id": "c4942e3c",
   "metadata": {},
   "outputs": [
    {
     "name": "stdout",
     "output_type": "stream",
     "text": [
      "77.0\n"
     ]
    }
   ],
   "source": [
    "class TemperatureConverter:\n",
    "    @staticmethod\n",
    "    def celsius_to_fahrenheit(C):\n",
    "        return (C * 9/5) + 32\n",
    "\n",
    "print(TemperatureConverter.celsius_to_fahrenheit(25))"
   ]
  },
  {
   "cell_type": "markdown",
   "id": "1a40b9e3",
   "metadata": {},
   "source": [
    "# 13. Composition"
   ]
  },
  {
   "cell_type": "markdown",
   "id": "89f522b4",
   "metadata": {},
   "source": [
    "Assignment:\n",
    "Create a class Engine and a class Car. Use composition by passing an Engine object to the Car class during initialization. Access a method of the Engine class via the Car class."
   ]
  },
  {
   "cell_type": "code",
   "execution_count": 14,
   "id": "49822921",
   "metadata": {},
   "outputs": [
    {
     "name": "stdout",
     "output_type": "stream",
     "text": [
      "Engine started.\n"
     ]
    }
   ],
   "source": [
    "class Engine:\n",
    "    def start(self):\n",
    "        print(\"Engine started.\")\n",
    "\n",
    "class Car:\n",
    "    def __init__(self, engine):\n",
    "        self.engine = engine\n",
    "\n",
    "    def start_car(self):\n",
    "        self.engine.start()\n",
    "\n",
    "e = Engine()\n",
    "c = Car(e)\n",
    "c.start_car()"
   ]
  },
  {
   "cell_type": "markdown",
   "id": "9eb63d77",
   "metadata": {},
   "source": [
    "# 14. Aggregation"
   ]
  },
  {
   "cell_type": "markdown",
   "id": "8aecb113",
   "metadata": {},
   "source": [
    "Assignment: Create a class Department and a class Employee. Use aggregation by having a Department object store a reference to an Employee object that exists independently of it."
   ]
  },
  {
   "cell_type": "code",
   "execution_count": 16,
   "id": "a44200bc",
   "metadata": {},
   "outputs": [
    {
     "name": "stdout",
     "output_type": "stream",
     "text": [
      "Essa\n"
     ]
    }
   ],
   "source": [
    "class Employee:\n",
    "    def __init__(self, name):\n",
    "        self.name = name\n",
    "\n",
    "class Department:\n",
    "    def __init__(self, dept_name, employee):\n",
    "        self.dept_name = dept_name\n",
    "        self.employee = employee\n",
    "\n",
    "emp = Employee(\"Essa\")\n",
    "dept = Department(\"IT\", emp)\n",
    "print(dept.employee.name)"
   ]
  },
  {
   "cell_type": "markdown",
   "id": "f409f91e",
   "metadata": {},
   "source": [
    "# 15. Method Resolution Order (MRO) and Diamond Inheritance"
   ]
  },
  {
   "cell_type": "markdown",
   "id": "d5c8db47",
   "metadata": {},
   "source": [
    "Assignment:\n",
    "Create four classes:\n",
    "\n",
    "A with a method show(),\n",
    "\n",
    "B and C that inherit from A and override show(),\n",
    "\n",
    "D that inherits from both B and C.\n",
    "\n",
    "Create an object of D and call show() to observe MRO."
   ]
  },
  {
   "cell_type": "code",
   "execution_count": 17,
   "id": "f5b901c4",
   "metadata": {},
   "outputs": [
    {
     "name": "stdout",
     "output_type": "stream",
     "text": [
      "B\n"
     ]
    }
   ],
   "source": [
    "class A:\n",
    "    def show(self):\n",
    "        print(\"A\")\n",
    "\n",
    "class B(A):\n",
    "    def show(self):\n",
    "        print(\"B\")\n",
    "\n",
    "class C(A):\n",
    "    def show(self):\n",
    "        print(\"C\")\n",
    "\n",
    "class D(B, C):\n",
    "    pass\n",
    "\n",
    "d = D()\n",
    "d.show()  # Follows MRO: D -> B -> C -> A"
   ]
  },
  {
   "cell_type": "markdown",
   "id": "08a41510",
   "metadata": {},
   "source": [
    "# 16. Function Decorators"
   ]
  },
  {
   "cell_type": "markdown",
   "id": "2ed91350",
   "metadata": {},
   "source": [
    "Assignment:\n",
    "Write a decorator function log_function_call that prints \"Function is being called\" before a function executes. Apply it to a function say_hello()."
   ]
  },
  {
   "cell_type": "code",
   "execution_count": 18,
   "id": "06e2ebec",
   "metadata": {},
   "outputs": [
    {
     "name": "stdout",
     "output_type": "stream",
     "text": [
      "Function is being called\n",
      "Hello!\n"
     ]
    }
   ],
   "source": [
    "def log_function_call(func):\n",
    "    def wrapper():\n",
    "        print(\"Function is being called\")\n",
    "        func()\n",
    "    return wrapper\n",
    "\n",
    "@log_function_call\n",
    "def say_hello():\n",
    "    print(\"Hello!\")\n",
    "\n",
    "say_hello()"
   ]
  },
  {
   "cell_type": "markdown",
   "id": "2ea1469a",
   "metadata": {},
   "source": [
    "# 17. Class Decorators\n",
    "Assignment:\n",
    "Create a class decorator add_greeting that modifies a class to add a greet() method returning \"Hello from Decorator!\". Apply it to a class Person."
   ]
  },
  {
   "cell_type": "code",
   "execution_count": 19,
   "id": "59d1622c",
   "metadata": {},
   "outputs": [
    {
     "name": "stdout",
     "output_type": "stream",
     "text": [
      "Hello from Decorator!\n"
     ]
    }
   ],
   "source": [
    "def add_greeting(cls):\n",
    "    class NewClass(cls):\n",
    "        def greet(self):\n",
    "            return \"Hello from Decorator!\"\n",
    "    return NewClass\n",
    "\n",
    "@add_greeting\n",
    "class Person:\n",
    "    pass\n",
    "\n",
    "p = Person()\n",
    "print(p.greet())"
   ]
  },
  {
   "cell_type": "markdown",
   "id": "1af4267a",
   "metadata": {},
   "source": [
    "# 18. Property Decorators: @property, @setter, and @deleter\n",
    "Assignment:\n",
    "Create a class Product with a private attribute _price. Use @property to get the price, @price.setter to update it, and @price.deleter to delete it."
   ]
  },
  {
   "cell_type": "code",
   "execution_count": 20,
   "id": "a54fc6d6",
   "metadata": {},
   "outputs": [
    {
     "name": "stdout",
     "output_type": "stream",
     "text": [
      "100\n",
      "200\n"
     ]
    }
   ],
   "source": [
    "class Product:\n",
    "    def __init__(self, price):\n",
    "        self._price = price\n",
    "\n",
    "    @property\n",
    "    def price(self):\n",
    "        return self._price\n",
    "\n",
    "    @price.setter\n",
    "    def price(self, value):\n",
    "        self._price = value\n",
    "\n",
    "    @price.deleter\n",
    "    def price(self):\n",
    "        del self._price\n",
    "\n",
    "item = Product(100)\n",
    "print(item.price)\n",
    "item.price = 200\n",
    "print(item.price)\n",
    "del item.price"
   ]
  },
  {
   "cell_type": "markdown",
   "id": "c66f5202",
   "metadata": {},
   "source": [
    "# 19. callable() and __call__()\n",
    "Assignment:\n",
    "Create a class Multiplier with an __init__() to set a factor. Define a __call__() method that multiplies an input by the factor. Test it with callable() and by calling the object like a function."
   ]
  },
  {
   "cell_type": "code",
   "execution_count": 21,
   "id": "6cd066d6",
   "metadata": {},
   "outputs": [
    {
     "name": "stdout",
     "output_type": "stream",
     "text": [
      "True\n",
      "15\n"
     ]
    }
   ],
   "source": [
    "class Multiplier:\n",
    "    def __init__(self, factor):\n",
    "        self.factor = factor\n",
    "\n",
    "    def __call__(self, value):\n",
    "        return self.factor * value\n",
    "\n",
    "m = Multiplier(3)\n",
    "print(callable(m))\n",
    "print(m(5))"
   ]
  },
  {
   "cell_type": "markdown",
   "id": "b9027df7",
   "metadata": {},
   "source": [
    "# 20. Creating a Custom Exception\n",
    "Assignment:\n",
    "Create a custom exception InvalidAgeError. Write a function check_age(age) that raises this exception if age < 18. Handle it with try...except."
   ]
  },
  {
   "cell_type": "code",
   "execution_count": 22,
   "id": "e66fddf0",
   "metadata": {},
   "outputs": [
    {
     "name": "stdout",
     "output_type": "stream",
     "text": [
      "Age must be at least 18.\n"
     ]
    }
   ],
   "source": [
    "class InvalidAgeError(Exception):\n",
    "    pass\n",
    "\n",
    "def check_age(age):\n",
    "    if age < 18:\n",
    "        raise InvalidAgeError(\"Age must be at least 18.\")\n",
    "    print(\"Age is valid.\")\n",
    "\n",
    "try:\n",
    "    check_age(16)\n",
    "except InvalidAgeError as e:\n",
    "    print(e)"
   ]
  },
  {
   "cell_type": "markdown",
   "id": "e4645338",
   "metadata": {},
   "source": [
    "# 21. Make a Custom Class Iterable\n",
    "Assignment:\n",
    "Create a class Countdown that takes a start number. Implement __iter__() and __next__() to make the object iterable in a for-loop, counting down to 0."
   ]
  },
  {
   "cell_type": "code",
   "execution_count": 23,
   "id": "caea7a26",
   "metadata": {},
   "outputs": [
    {
     "name": "stdout",
     "output_type": "stream",
     "text": [
      "5\n",
      "4\n",
      "3\n",
      "2\n",
      "1\n",
      "0\n"
     ]
    }
   ],
   "source": [
    "class Countdown:\n",
    "    def __init__(self, start):\n",
    "        self.current = start\n",
    "\n",
    "    def __iter__(self):\n",
    "        return self\n",
    "\n",
    "    def __next__(self):\n",
    "        if self.current < 0:\n",
    "            raise StopIteration\n",
    "        value = self.current\n",
    "        self.current -= 1\n",
    "        return value\n",
    "\n",
    "for number in Countdown(5):\n",
    "    print(number)"
   ]
  }
 ],
 "metadata": {
  "kernelspec": {
   "display_name": "Python 3",
   "language": "python",
   "name": "python3"
  },
  "language_info": {
   "codemirror_mode": {
    "name": "ipython",
    "version": 3
   },
   "file_extension": ".py",
   "mimetype": "text/x-python",
   "name": "python",
   "nbconvert_exporter": "python",
   "pygments_lexer": "ipython3",
   "version": "3.13.2"
  }
 },
 "nbformat": 4,
 "nbformat_minor": 5
}
